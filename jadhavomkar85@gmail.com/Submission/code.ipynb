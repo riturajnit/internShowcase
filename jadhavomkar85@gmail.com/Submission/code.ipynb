{
 "cells": [
  {
   "cell_type": "code",
   "execution_count": 1,
   "metadata": {},
   "outputs": [],
   "source": [
    "import numpy as np\n",
    "import pandas as pd\n",
    "import seaborn as sns\n",
    "import matplotlib.pyplot as plt\n",
    "%matplotlib inline"
   ]
  },
  {
   "cell_type": "code",
   "execution_count": 2,
   "metadata": {},
   "outputs": [],
   "source": [
    "\n",
    "train = pd.read_csv('ann/train.csv', )\n",
    "test = pd.read_csv('ann/test.csv')\n",
    "df = pd.concat([train,test], axis =0, sort = True)\n",
    "df.drop('Cabin',axis=1,inplace=True)"
   ]
  },
  {
   "cell_type": "code",
   "execution_count": 3,
   "metadata": {},
   "outputs": [
    {
     "data": {
      "text/html": [
       "<div>\n",
       "<style scoped>\n",
       "    .dataframe tbody tr th:only-of-type {\n",
       "        vertical-align: middle;\n",
       "    }\n",
       "\n",
       "    .dataframe tbody tr th {\n",
       "        vertical-align: top;\n",
       "    }\n",
       "\n",
       "    .dataframe thead th {\n",
       "        text-align: right;\n",
       "    }\n",
       "</style>\n",
       "<table border=\"1\" class=\"dataframe\">\n",
       "  <thead>\n",
       "    <tr style=\"text-align: right;\">\n",
       "      <th></th>\n",
       "      <th>PassengerId</th>\n",
       "      <th>Survived</th>\n",
       "      <th>Pclass</th>\n",
       "      <th>Name</th>\n",
       "      <th>Sex</th>\n",
       "      <th>Age</th>\n",
       "      <th>SibSp</th>\n",
       "      <th>Parch</th>\n",
       "      <th>Ticket</th>\n",
       "      <th>Fare</th>\n",
       "      <th>Cabin</th>\n",
       "      <th>Embarked</th>\n",
       "    </tr>\n",
       "  </thead>\n",
       "  <tbody>\n",
       "    <tr>\n",
       "      <th>0</th>\n",
       "      <td>1</td>\n",
       "      <td>0</td>\n",
       "      <td>3</td>\n",
       "      <td>Braund, Mr. Owen Harris</td>\n",
       "      <td>male</td>\n",
       "      <td>22.0</td>\n",
       "      <td>1</td>\n",
       "      <td>0</td>\n",
       "      <td>A/5 21171</td>\n",
       "      <td>7.2500</td>\n",
       "      <td>NaN</td>\n",
       "      <td>S</td>\n",
       "    </tr>\n",
       "    <tr>\n",
       "      <th>1</th>\n",
       "      <td>2</td>\n",
       "      <td>1</td>\n",
       "      <td>1</td>\n",
       "      <td>Cumings, Mrs. John Bradley (Florence Briggs Th...</td>\n",
       "      <td>female</td>\n",
       "      <td>38.0</td>\n",
       "      <td>1</td>\n",
       "      <td>0</td>\n",
       "      <td>PC 17599</td>\n",
       "      <td>71.2833</td>\n",
       "      <td>C85</td>\n",
       "      <td>C</td>\n",
       "    </tr>\n",
       "    <tr>\n",
       "      <th>2</th>\n",
       "      <td>3</td>\n",
       "      <td>1</td>\n",
       "      <td>3</td>\n",
       "      <td>Heikkinen, Miss. Laina</td>\n",
       "      <td>female</td>\n",
       "      <td>26.0</td>\n",
       "      <td>0</td>\n",
       "      <td>0</td>\n",
       "      <td>STON/O2. 3101282</td>\n",
       "      <td>7.9250</td>\n",
       "      <td>NaN</td>\n",
       "      <td>S</td>\n",
       "    </tr>\n",
       "    <tr>\n",
       "      <th>3</th>\n",
       "      <td>4</td>\n",
       "      <td>1</td>\n",
       "      <td>1</td>\n",
       "      <td>Futrelle, Mrs. Jacques Heath (Lily May Peel)</td>\n",
       "      <td>female</td>\n",
       "      <td>35.0</td>\n",
       "      <td>1</td>\n",
       "      <td>0</td>\n",
       "      <td>113803</td>\n",
       "      <td>53.1000</td>\n",
       "      <td>C123</td>\n",
       "      <td>S</td>\n",
       "    </tr>\n",
       "    <tr>\n",
       "      <th>4</th>\n",
       "      <td>5</td>\n",
       "      <td>0</td>\n",
       "      <td>3</td>\n",
       "      <td>Allen, Mr. William Henry</td>\n",
       "      <td>male</td>\n",
       "      <td>35.0</td>\n",
       "      <td>0</td>\n",
       "      <td>0</td>\n",
       "      <td>373450</td>\n",
       "      <td>8.0500</td>\n",
       "      <td>NaN</td>\n",
       "      <td>S</td>\n",
       "    </tr>\n",
       "  </tbody>\n",
       "</table>\n",
       "</div>"
      ],
      "text/plain": [
       "   PassengerId  Survived  Pclass  \\\n",
       "0            1         0       3   \n",
       "1            2         1       1   \n",
       "2            3         1       3   \n",
       "3            4         1       1   \n",
       "4            5         0       3   \n",
       "\n",
       "                                                Name     Sex   Age  SibSp  \\\n",
       "0                            Braund, Mr. Owen Harris    male  22.0      1   \n",
       "1  Cumings, Mrs. John Bradley (Florence Briggs Th...  female  38.0      1   \n",
       "2                             Heikkinen, Miss. Laina  female  26.0      0   \n",
       "3       Futrelle, Mrs. Jacques Heath (Lily May Peel)  female  35.0      1   \n",
       "4                           Allen, Mr. William Henry    male  35.0      0   \n",
       "\n",
       "   Parch            Ticket     Fare Cabin Embarked  \n",
       "0      0         A/5 21171   7.2500   NaN        S  \n",
       "1      0          PC 17599  71.2833   C85        C  \n",
       "2      0  STON/O2. 3101282   7.9250   NaN        S  \n",
       "3      0            113803  53.1000  C123        S  \n",
       "4      0            373450   8.0500   NaN        S  "
      ]
     },
     "execution_count": 3,
     "metadata": {},
     "output_type": "execute_result"
    }
   ],
   "source": [
    "train.head()"
   ]
  },
  {
   "cell_type": "code",
   "execution_count": 4,
   "metadata": {},
   "outputs": [
    {
     "data": {
      "text/plain": [
       "<matplotlib.axes._subplots.AxesSubplot at 0x1f5c5e1e748>"
      ]
     },
     "execution_count": 4,
     "metadata": {},
     "output_type": "execute_result"
    },
    {
     "data": {
      "image/png": "[encoded data removed]",
      "text/plain": [
       "<Figure size 432x288 with 1 Axes>"
      ]
     },
     "metadata": {
      "needs_background": "light"
     },
     "output_type": "display_data"
    }
   ],
   "source": [
    "sns.heatmap(train.isnull(),yticklabels=False,cbar=False,cmap='viridis')"
   ]
  },
  {
   "cell_type": "code",
   "execution_count": 5,
   "metadata": {},
   "outputs": [
    {
     "data": {
      "text/plain": [
       "<matplotlib.axes._subplots.AxesSubplot at 0x1f5c80316a0>"
      ]
     },
     "execution_count": 5,
     "metadata": {},
     "output_type": "execute_result"
    },
    {
     "data": {
      "image/png": "[encoded data removed]",
      "text/plain": [
       "<Figure size 432x288 with 1 Axes>"
      ]
     },
     "metadata": {},
     "output_type": "display_data"
    }
   ],
   "source": [
    "sns.set_style('whitegrid')\n",
    "sns.countplot(x='Survived',data=train,palette='RdBu_r')"
   ]
  },
  {
   "cell_type": "code",
   "execution_count": 6,
   "metadata": {},
   "outputs": [
    {
     "data": {
      "text/plain": [
       "<matplotlib.axes._subplots.AxesSubplot at 0x1f5c8083eb8>"
      ]
     },
     "execution_count": 6,
     "metadata": {},
     "output_type": "execute_result"
    },
    {
     "data": {
      "image/png": "[encoded data removed]",
      "text/plain": [
       "<Figure size 432x288 with 1 Axes>"
      ]
     },
     "metadata": {},
     "output_type": "display_data"
    }
   ],
   "source": [
    "sns.set_style('whitegrid')\n",
    "sns.countplot(x='Survived',hue='Sex',data=train,palette='RdBu_r')"
   ]
  },
  {
   "cell_type": "code",
   "execution_count": 7,
   "metadata": {},
   "outputs": [
    {
     "data": {
      "text/plain": [
       "<matplotlib.axes._subplots.AxesSubplot at 0x1f5c80c9a20>"
      ]
     },
     "execution_count": 7,
     "metadata": {},
     "output_type": "execute_result"
    },
    {
     "data": {
      "image/png": "[encoded data removed]",
      "text/plain": [
       "<Figure size 432x288 with 1 Axes>"
      ]
     },
     "metadata": {},
     "output_type": "display_data"
    }
   ],
   "source": [
    "sns.set_style('whitegrid')\n",
    "sns.countplot(x='Survived',hue='Pclass',data=train,palette='rainbow')"
   ]
  },
  {
   "cell_type": "code",
   "execution_count": 8,
   "metadata": {},
   "outputs": [
    {
     "data": {
      "text/plain": [
       "<matplotlib.axes._subplots.AxesSubplot at 0x1f5c5db1208>"
      ]
     },
     "execution_count": 8,
     "metadata": {},
     "output_type": "execute_result"
    },
    {
     "data": {
      "image/png": "[encoded data removed]",
      "text/plain": [
       "<Figure size 432x288 with 1 Axes>"
      ]
     },
     "metadata": {},
     "output_type": "display_data"
    }
   ],
   "source": [
    "sns.distplot(train['Age'].dropna(),kde=False,color='darkred',bins=30)"
   ]
  },
  {
   "cell_type": "code",
   "execution_count": 9,
   "metadata": {},
   "outputs": [
    {
     "data": {
      "text/plain": [
       "<matplotlib.axes._subplots.AxesSubplot at 0x1f5c800a358>"
      ]
     },
     "execution_count": 9,
     "metadata": {},
     "output_type": "execute_result"
    },
    {
     "data": {
      "image/png": "[encoded data removed]",
      "text/plain": [
       "<Figure size 432x288 with 1 Axes>"
      ]
     },
     "metadata": {},
     "output_type": "display_data"
    }
   ],
   "source": [
    "train['Age'].hist(bins=30,color='darkred',alpha=0.7)"
   ]
  },
  {
   "cell_type": "code",
   "execution_count": 10,
   "metadata": {},
   "outputs": [
    {
     "data": {
      "text/plain": [
       "<matplotlib.axes._subplots.AxesSubplot at 0x1f5c81d68d0>"
      ]
     },
     "execution_count": 10,
     "metadata": {},
     "output_type": "execute_result"
    },
    {
     "data": {
      "image/png": "[encoded data removed]",
      "text/plain": [
       "<Figure size 432x288 with 1 Axes>"
      ]
     },
     "metadata": {},
     "output_type": "display_data"
    }
   ],
   "source": [
    "sns.countplot(x='SibSp',data=train)"
   ]
  },
  {
   "cell_type": "code",
   "execution_count": 11,
   "metadata": {},
   "outputs": [
    {
     "data": {
      "text/plain": [
       "<matplotlib.axes._subplots.AxesSubplot at 0x1f5c81d24a8>"
      ]
     },
     "execution_count": 11,
     "metadata": {},
     "output_type": "execute_result"
    },
    {
     "data": {
      "image/png": "[encoded data removed]",
      "text/plain": [
       "<Figure size 576x288 with 1 Axes>"
      ]
     },
     "metadata": {},
     "output_type": "display_data"
    }
   ],
   "source": [
    "train['Fare'].hist(color='green',bins=40,figsize=(8,4))"
   ]
  },
  {
   "cell_type": "code",
   "execution_count": 12,
   "metadata": {},
   "outputs": [
    {
     "data": {
      "text/plain": [
       "<matplotlib.axes._subplots.AxesSubplot at 0x1f5c81c6cf8>"
      ]
     },
     "execution_count": 12,
     "metadata": {},
     "output_type": "execute_result"
    },
    {
     "data": {
      "image/png": "[encoded data removed]",
      "text/plain": [
       "<Figure size 864x504 with 1 Axes>"
      ]
     },
     "metadata": {},
     "output_type": "display_data"
    }
   ],
   "source": [
    "plt.figure(figsize=(12, 7))\n",
    "sns.boxplot(x='Pclass',y='Age',data=train,palette='winter')"
   ]
  },
  {
   "cell_type": "code",
   "execution_count": 13,
   "metadata": {},
   "outputs": [],
   "source": [
    "def age(cols):\n",
    "    Age = cols[0]\n",
    "    Pclass = cols[1]\n",
    "\n",
    "    if pd.isnull(Age):\n",
    "\n",
    "        if Pclass == 1:\n",
    "            return 42\n",
    "\n",
    "        elif Pclass == 2:\n",
    "            return 28\n",
    "\n",
    "        else:\n",
    "            return 25\n",
    "\n",
    "    else:\n",
    "        return Age"
   ]
  },
  {
   "cell_type": "code",
   "execution_count": 14,
   "metadata": {},
   "outputs": [
    {
     "data": {
      "image/png": "[encoded data removed]",
      "text/plain": [
       "<Figure size 432x288 with 1 Axes>"
      ]
     },
     "metadata": {},
     "output_type": "display_data"
    }
   ],
   "source": [
    "sns.heatmap(df.isnull(),yticklabels=False,cbar=False,cmap='viridis')\n",
    "df['Age'] = df[['Age','Pclass']].apply(age,axis=1)"
   ]
  },
  {
   "cell_type": "code",
   "execution_count": 15,
   "metadata": {},
   "outputs": [
    {
     "data": {
      "text/plain": [
       "<matplotlib.axes._subplots.AxesSubplot at 0x1f5c816c908>"
      ]
     },
     "execution_count": 15,
     "metadata": {},
     "output_type": "execute_result"
    },
    {
     "data": {
      "image/png": "[encoded data removed]",
      "text/plain": [
       "<Figure size 432x288 with 1 Axes>"
      ]
     },
     "metadata": {},
     "output_type": "display_data"
    }
   ],
   "source": [
    "sns.heatmap(df.isnull(),yticklabels=False,cbar=False,cmap='viridis')"
   ]
  },
  {
   "cell_type": "code",
   "execution_count": 16,
   "metadata": {},
   "outputs": [],
   "source": [
    "#Seperating training and testing data again\n",
    " \n",
    "train = df[pd.notnull(df['Survived'])]\n",
    "test = df[pd.isnull(df['Survived'])]\n",
    "train.to_csv('train_clean.csv', index=False)\n",
    "test.to_csv('test_clean.csv', index=False)"
   ]
  },
  {
   "cell_type": "code",
   "execution_count": 17,
   "metadata": {},
   "outputs": [],
   "source": [
    "# Load data as Pandas dataframe\n",
    "train = pd.read_csv('train_clean.csv', )\n",
    "test = pd.read_csv('test_clean.csv')\n",
    "df = pd.concat([train, test], axis=0, sort=True)"
   ]
  },
  {
   "cell_type": "code",
   "execution_count": 18,
   "metadata": {},
   "outputs": [],
   "source": [
    "\n",
    "# subset all categorical variables which need to be encodedcategorical = ['Sex']\n",
    "for var in categorical:\n",
    "    df = pd.concat([df, \n",
    "                    pd.get_dummies(df[var])], axis=1)\n",
    "df.drop(['Sex','female'],axis=1,inplace=True)\n",
    "df.rename(columns = {'male':'Sex'},inplace=True)"
   ]
  },
  {
   "cell_type": "code",
   "execution_count": 19,
   "metadata": {},
   "outputs": [],
   "source": [
    "\n",
    "categorical = ['Embarked']\n",
    "df['Fare']=df['Fare'].fillna(df['Fare'].median())\n",
    "df['Fare'].isnull().sum()\n",
    "for var in categorical:\n",
    "    df = pd.concat([df, \n",
    "                    pd.get_dummies(df[var], prefix=var)], axis=1)"
   ]
  },
  {
   "cell_type": "code",
   "execution_count": 20,
   "metadata": {},
   "outputs": [],
   "source": [
    "#Dropping the already encoded columns\n",
    "df.drop(['Name', 'Ticket', 'PassengerId','Embarked'], axis=1, inplace=True)\n",
    "\n",
    "continuous = ['Age', 'Fare', 'Parch', 'Pclass', 'SibSp']\n",
    "from sklearn.preprocessing import StandardScaler\n",
    "scaler = StandardScaler()\n"
   ]
  },
  {
   "cell_type": "code",
   "execution_count": 21,
   "metadata": {},
   "outputs": [],
   "source": [
    "#scaling all continous attributes to convert in same range\n",
    "for var in continuous:\n",
    "    df[var] = df[var].astype('float64')\n",
    "    df[var] = scaler.fit_transform(df[var].values.reshape(-1, 1))\n",
    "df.drop('Embarked_C',axis=1,inplace=True)\n",
    "X_train = df[pd.notnull(df['Survived'])]\n",
    "X_train = X_train.drop(['Survived'], axis=1)\n",
    "y_train = df[pd.notnull(df['Survived'])]['Survived']\n",
    "X_test = df[pd.isnull(df['Survived'])]\n",
    "X_test = X_test.drop(['Survived'], axis=1)\n"
   ]
  },
  {
   "cell_type": "code",
   "execution_count": 22,
   "metadata": {},
   "outputs": [
    {
     "name": "stderr",
     "output_type": "stream",
     "text": [
      "C:\\Users\\OMKAR\\Anaconda3\\envs\\tensorflow\\lib\\site-packages\\h5py\\__init__.py:36: FutureWarning: Conversion of the second argument of issubdtype from `float` to `np.floating` is deprecated. In future, it will be treated as `np.float64 == np.dtype(float).type`.\n",
      "  from ._conv import register_converters as _register_converters\n",
      "Using TensorFlow backend.\n",
      "C:\\Users\\OMKAR\\Anaconda3\\envs\\tensorflow\\lib\\site-packages\\tensorflow\\python\\framework\\dtypes.py:523: FutureWarning: Passing (type, 1) or '1type' as a synonym of type is deprecated; in a future version of numpy, it will be understood as (type, (1,)) / '(1,)type'.\n",
      "  _np_qint8 = np.dtype([(\"qint8\", np.int8, 1)])\n",
      "C:\\Users\\OMKAR\\Anaconda3\\envs\\tensorflow\\lib\\site-packages\\tensorflow\\python\\framework\\dtypes.py:524: FutureWarning: Passing (type, 1) or '1type' as a synonym of type is deprecated; in a future version of numpy, it will be understood as (type, (1,)) / '(1,)type'.\n",
      "  _np_quint8 = np.dtype([(\"quint8\", np.uint8, 1)])\n",
      "C:\\Users\\OMKAR\\Anaconda3\\envs\\tensorflow\\lib\\site-packages\\tensorflow\\python\\framework\\dtypes.py:525: FutureWarning: Passing (type, 1) or '1type' as a synonym of type is deprecated; in a future version of numpy, it will be understood as (type, (1,)) / '(1,)type'.\n",
      "  _np_qint16 = np.dtype([(\"qint16\", np.int16, 1)])\n",
      "C:\\Users\\OMKAR\\Anaconda3\\envs\\tensorflow\\lib\\site-packages\\tensorflow\\python\\framework\\dtypes.py:526: FutureWarning: Passing (type, 1) or '1type' as a synonym of type is deprecated; in a future version of numpy, it will be understood as (type, (1,)) / '(1,)type'.\n",
      "  _np_quint16 = np.dtype([(\"quint16\", np.uint16, 1)])\n",
      "C:\\Users\\OMKAR\\Anaconda3\\envs\\tensorflow\\lib\\site-packages\\tensorflow\\python\\framework\\dtypes.py:527: FutureWarning: Passing (type, 1) or '1type' as a synonym of type is deprecated; in a future version of numpy, it will be understood as (type, (1,)) / '(1,)type'.\n",
      "  _np_qint32 = np.dtype([(\"qint32\", np.int32, 1)])\n",
      "C:\\Users\\OMKAR\\Anaconda3\\envs\\tensorflow\\lib\\site-packages\\tensorflow\\python\\framework\\dtypes.py:532: FutureWarning: Passing (type, 1) or '1type' as a synonym of type is deprecated; in a future version of numpy, it will be understood as (type, (1,)) / '(1,)type'.\n",
      "  np_resource = np.dtype([(\"resource\", np.ubyte, 1)])\n"
     ]
    }
   ],
   "source": [
    "import keras\n",
    "from keras.wrappers.scikit_learn import KerasClassifier\n",
    "from sklearn.model_selection import cross_val_score\n",
    "#from sklearn.model_selection import GridSearchCV\n",
    "from keras.models import Sequential\n",
    "from keras.layers import Dense\n",
    "from keras.layers import Dropout"
   ]
  },
  {
   "cell_type": "code",
   "execution_count": 23,
   "metadata": {},
   "outputs": [],
   "source": [
    "def build_classifier():\n",
    "    classifier = Sequential()\n",
    "    classifier.add(Dense(units = 4, kernel_initializer= 'uniform', activation = 'relu', input_dim = 8))\n",
    "    classifier.add(Dropout(rate = 0.2))\n",
    "    \n",
    "    #second hidden layer, therefore, does not require the no. of inputs\n",
    "    classifier.add(Dense(units = 4, kernel_initializer= 'uniform', activation = 'relu'))\n",
    "    classifier.add(Dropout(rate = 0.2))    \n",
    "    #creating output layer\n",
    "    classifier.add(Dense(units = 1, kernel_initializer= 'uniform', activation = 'sigmoid'))\n",
    "    #comipiling the ANN model\n",
    "    classifier.compile(optimizer='adam', loss = 'binary_crossentropy',  metrics=['accuracy'])\n",
    "    \n",
    "    return classifier"
   ]
  },
  {
   "cell_type": "code",
   "execution_count": 24,
   "metadata": {},
   "outputs": [
    {
     "name": "stdout",
     "output_type": "stream",
     "text": [
      "Epoch 1/1\n",
      "801/801 [==============================] - 1s 655us/step - loss: 0.6919 - acc: 0.6130\n",
      "90/90 [==============================] - 0s 709us/step\n",
      "Epoch 1/1\n",
      "802/802 [==============================] - 0s 591us/step - loss: 0.6923 - acc: 0.5923\n",
      "89/89 [==============================] - 0s 840us/step\n",
      "Epoch 1/1\n",
      "802/802 [==============================] - 1s 628us/step - loss: 0.6922 - acc: 0.6085\n",
      "89/89 [==============================] - 0s 961us/step\n",
      "Epoch 1/1\n",
      "802/802 [==============================] - 1s 659us/step - loss: 0.6921 - acc: 0.6010\n",
      "89/89 [==============================] - 0s 1ms/step\n",
      "Epoch 1/1\n",
      "802/802 [==============================] - 1s 695us/step - loss: 0.6919 - acc: 0.6197\n",
      "89/89 [==============================] - 0s 1ms/step\n",
      "Epoch 1/1\n",
      "802/802 [==============================] - 1s 717us/step - loss: 0.6918 - acc: 0.6122\n",
      "89/89 [==============================] - 0s 1ms/step\n",
      "Epoch 1/1\n",
      "802/802 [==============================] - 1s 770us/step - loss: 0.6920 - acc: 0.6160\n",
      "89/89 [==============================] - 0s 1ms/step\n",
      "Epoch 1/1\n",
      "802/802 [==============================] - 1s 862us/step - loss: 0.6920 - acc: 0.6135\n",
      "89/89 [==============================] - 0s 2ms/step\n",
      "Epoch 1/1\n",
      "802/802 [==============================] - 1s 880us/step - loss: 0.6920 - acc: 0.6047\n",
      "89/89 [==============================] - 0s 2ms/step\n",
      "Epoch 1/1\n",
      "802/802 [==============================] - 1s 898us/step - loss: 0.6920 - acc: 0.6085\n",
      "89/89 [==============================] - 0s 2ms/step\n"
     ]
    }
   ],
   "source": [
    "'''\n",
    "BEST PARAMETERS: \n",
    "    \n",
    "    batch_size: 32\n",
    "    nb_epoch: 50\n",
    "    dropout: 0.2\n",
    "\n",
    "'''\n",
    "#grid_search = grid_search.fit(X_train, y_train)\n",
    "#best_parameters = grid_search.best_params_\n",
    "#best_accuracy = grid_search.best_score_\n",
    "classifier = KerasClassifier(build_fn=build_classifier, batch_size = 32, nb_epoch = 50)\n",
    "accuracies = cross_val_score(estimator = classifier, X = X_train, y = y_train, cv = 10, n_jobs=1)\n"
   ]
  },
  {
   "cell_type": "code",
   "execution_count": 25,
   "metadata": {},
   "outputs": [
    {
     "name": "stdout",
     "output_type": "stream",
     "text": [
      "Epoch 1/50\n",
      "891/891 [==============================] - 1s 808us/step - loss: 0.6915 - acc: 0.6162\n",
      "Epoch 2/50\n",
      "891/891 [==============================] - 0s 51us/step - loss: 0.6871 - acc: 0.6162\n",
      "Epoch 3/50\n",
      "891/891 [==============================] - 0s 50us/step - loss: 0.6780 - acc: 0.6162\n",
      "Epoch 4/50\n",
      "891/891 [==============================] - 0s 50us/step - loss: 0.6648 - acc: 0.6162\n",
      "Epoch 5/50\n",
      "891/891 [==============================] - 0s 49us/step - loss: 0.6440 - acc: 0.6162\n",
      "Epoch 6/50\n",
      "891/891 [==============================] - 0s 50us/step - loss: 0.6264 - acc: 0.6162\n",
      "Epoch 7/50\n",
      "891/891 [==============================] - 0s 51us/step - loss: 0.6146 - acc: 0.6162\n",
      "Epoch 8/50\n",
      "891/891 [==============================] - 0s 51us/step - loss: 0.6108 - acc: 0.6162\n",
      "Epoch 9/50\n",
      "891/891 [==============================] - 0s 46us/step - loss: 0.5955 - acc: 0.6162\n",
      "Epoch 10/50\n",
      "891/891 [==============================] - 0s 53us/step - loss: 0.5948 - acc: 0.6162\n",
      "Epoch 11/50\n",
      "891/891 [==============================] - 0s 50us/step - loss: 0.5910 - acc: 0.6162\n",
      "Epoch 12/50\n",
      "891/891 [==============================] - 0s 53us/step - loss: 0.5817 - acc: 0.6162\n",
      "Epoch 13/50\n",
      "891/891 [==============================] - 0s 49us/step - loss: 0.5779 - acc: 0.6162\n",
      "Epoch 14/50\n",
      "891/891 [==============================] - 0s 47us/step - loss: 0.5751 - acc: 0.6442\n",
      "Epoch 15/50\n",
      "891/891 [==============================] - 0s 51us/step - loss: 0.5697 - acc: 0.7228\n",
      "Epoch 16/50\n",
      "891/891 [==============================] - 0s 51us/step - loss: 0.5643 - acc: 0.7318\n",
      "Epoch 17/50\n",
      "891/891 [==============================] - 0s 48us/step - loss: 0.5691 - acc: 0.7273\n",
      "Epoch 18/50\n",
      "891/891 [==============================] - 0s 49us/step - loss: 0.5575 - acc: 0.7295\n",
      "Epoch 19/50\n",
      "891/891 [==============================] - 0s 50us/step - loss: 0.5639 - acc: 0.7351\n",
      "Epoch 20/50\n",
      "891/891 [==============================] - 0s 48us/step - loss: 0.5520 - acc: 0.7385\n",
      "Epoch 21/50\n",
      "891/891 [==============================] - 0s 49us/step - loss: 0.5555 - acc: 0.7520\n",
      "Epoch 22/50\n",
      "891/891 [==============================] - 0s 53us/step - loss: 0.5476 - acc: 0.7688\n",
      "Epoch 23/50\n",
      "891/891 [==============================] - 0s 47us/step - loss: 0.5410 - acc: 0.7800\n",
      "Epoch 24/50\n",
      "891/891 [==============================] - 0s 49us/step - loss: 0.5449 - acc: 0.7733\n",
      "Epoch 25/50\n",
      "891/891 [==============================] - 0s 52us/step - loss: 0.5434 - acc: 0.7778\n",
      "Epoch 26/50\n",
      "891/891 [==============================] - 0s 52us/step - loss: 0.5357 - acc: 0.7890\n",
      "Epoch 27/50\n",
      "891/891 [==============================] - 0s 49us/step - loss: 0.5385 - acc: 0.7935\n",
      "Epoch 28/50\n",
      "891/891 [==============================] - 0s 48us/step - loss: 0.5325 - acc: 0.7823\n",
      "Epoch 29/50\n",
      "891/891 [==============================] - 0s 52us/step - loss: 0.5305 - acc: 0.7957\n",
      "Epoch 30/50\n",
      "891/891 [==============================] - 0s 49us/step - loss: 0.5289 - acc: 0.7991\n",
      "Epoch 31/50\n",
      "891/891 [==============================] - 0s 48us/step - loss: 0.5261 - acc: 0.8081\n",
      "Epoch 32/50\n",
      "891/891 [==============================] - 0s 53us/step - loss: 0.5306 - acc: 0.7957\n",
      "Epoch 33/50\n",
      "891/891 [==============================] - 0s 53us/step - loss: 0.5172 - acc: 0.8114\n",
      "Epoch 34/50\n",
      "891/891 [==============================] - 0s 50us/step - loss: 0.5437 - acc: 0.7834\n",
      "Epoch 35/50\n",
      "891/891 [==============================] - 0s 47us/step - loss: 0.5317 - acc: 0.8081\n",
      "Epoch 36/50\n",
      "891/891 [==============================] - 0s 51us/step - loss: 0.5295 - acc: 0.8025\n",
      "Epoch 37/50\n",
      "891/891 [==============================] - 0s 51us/step - loss: 0.5163 - acc: 0.7969\n",
      "Epoch 38/50\n",
      "891/891 [==============================] - 0s 51us/step - loss: 0.5194 - acc: 0.8092\n",
      "Epoch 39/50\n",
      "891/891 [==============================] - 0s 49us/step - loss: 0.5237 - acc: 0.8058\n",
      "Epoch 40/50\n",
      "891/891 [==============================] - 0s 52us/step - loss: 0.5182 - acc: 0.8148\n",
      "Epoch 41/50\n",
      "891/891 [==============================] - 0s 51us/step - loss: 0.5419 - acc: 0.8002\n",
      "Epoch 42/50\n",
      "891/891 [==============================] - 0s 48us/step - loss: 0.5268 - acc: 0.8002\n",
      "Epoch 43/50\n",
      "891/891 [==============================] - 0s 53us/step - loss: 0.5127 - acc: 0.8126\n",
      "Epoch 44/50\n",
      "891/891 [==============================] - 0s 51us/step - loss: 0.5161 - acc: 0.8081\n",
      "Epoch 45/50\n",
      "891/891 [==============================] - 0s 50us/step - loss: 0.5164 - acc: 0.8025\n",
      "Epoch 46/50\n",
      "891/891 [==============================] - 0s 49us/step - loss: 0.5136 - acc: 0.8070\n",
      "Epoch 47/50\n",
      "891/891 [==============================] - 0s 47us/step - loss: 0.5086 - acc: 0.8103\n",
      "Epoch 48/50\n",
      "891/891 [==============================] - 0s 50us/step - loss: 0.5216 - acc: 0.8002\n",
      "Epoch 49/50\n",
      "891/891 [==============================] - 0s 52us/step - loss: 0.5102 - acc: 0.8002\n",
      "Epoch 50/50\n",
      "891/891 [==============================] - 0s 48us/step - loss: 0.4937 - acc: 0.8204\n"
     ]
    }
   ],
   "source": [
    "#final model creation\n",
    "classifier = build_classifier()\n",
    "stats = classifier.fit(X_train, y_train, batch_size=32, epochs=50)\n",
    "\n"
   ]
  },
  {
   "cell_type": "code",
   "execution_count": 26,
   "metadata": {},
   "outputs": [
    {
     "name": "stdout",
     "output_type": "stream",
     "text": [
      "0.7389674523763784\n"
     ]
    }
   ],
   "source": [
    "\n",
    "print(np.mean(stats.history['acc']))\n",
    "\n"
   ]
  },
  {
   "cell_type": "code",
   "execution_count": 27,
   "metadata": {},
   "outputs": [],
   "source": [
    "y_pred = classifier.predict(X_test)\n",
    "y_pred = (y_pred >0.5)\n",
    "for i in range(len(y_pred)):\n",
    "    if y_pred[i] > 0.5:\n",
    "        y_pred[i] = 1\n",
    "    else:\n",
    "        y_pred[i] = 0\n",
    "\n",
    "y_test = pd.read_csv('ann/gender_submission.csv')\n",
    "y_test = y_test.iloc[:,1:]\n"
   ]
  },
  {
   "cell_type": "code",
   "execution_count": 28,
   "metadata": {},
   "outputs": [
    {
     "name": "stdout",
     "output_type": "stream",
     "text": [
      "             precision    recall  f1-score   support\n",
      "\n",
      "          0       0.91      0.95      0.93       266\n",
      "          1       0.90      0.84      0.87       152\n",
      "\n",
      "avg / total       0.91      0.91      0.91       418\n",
      "\n"
     ]
    }
   ],
   "source": [
    "\n",
    "from sklearn.metrics import confusion_matrix,classification_report\n",
    "\n",
    "cm = confusion_matrix(y_test, y_pred)\n",
    "d = pd.DataFrame(y_pred)\n",
    "d.to_csv('test_predictions.csv', index=False)\n",
    "\n",
    "print(classification_report(y_test,y_pred))"
   ]
  },
  {
   "cell_type": "code",
   "execution_count": null,
   "metadata": {},
   "outputs": [],
   "source": [
    "#####################################   SVM    ##################################################"
   ]
  },
  {
   "cell_type": "code",
   "execution_count": 43,
   "metadata": {},
   "outputs": [
    {
     "data": {
      "text/plain": [
       "SVC(C=1.0, cache_size=200, class_weight=None, coef0=0.0,\n",
       "  decision_function_shape='ovr', degree=3, gamma='auto', kernel='rbf',\n",
       "  max_iter=-1, probability=False, random_state=None, shrinking=True,\n",
       "  tol=0.001, verbose=False)"
      ]
     },
     "execution_count": 43,
     "metadata": {},
     "output_type": "execute_result"
    }
   ],
   "source": [
    "from sklearn.svm import SVC\n",
    "model = SVC()\n",
    "model.fit(X_train,y_train)"
   ]
  },
  {
   "cell_type": "code",
   "execution_count": 44,
   "metadata": {},
   "outputs": [
    {
     "name": "stdout",
     "output_type": "stream",
     "text": [
      "[[255  11]\n",
      " [ 10 142]]\n"
     ]
    }
   ],
   "source": [
    "predictions = model.predict(X_test)\n",
    "from sklearn.metrics import classification_report,confusion_matrix\n",
    "print(confusion_matrix(y_test,predictions))"
   ]
  },
  {
   "cell_type": "code",
   "execution_count": 45,
   "metadata": {},
   "outputs": [
    {
     "name": "stdout",
     "output_type": "stream",
     "text": [
      "             precision    recall  f1-score   support\n",
      "\n",
      "          0       0.96      0.96      0.96       266\n",
      "          1       0.93      0.93      0.93       152\n",
      "\n",
      "avg / total       0.95      0.95      0.95       418\n",
      "\n"
     ]
    }
   ],
   "source": [
    "print(classification_report(y_test,predictions))"
   ]
  },
  {
   "cell_type": "code",
   "execution_count": 46,
   "metadata": {},
   "outputs": [],
   "source": [
    "param_grid = {'C': [0.1,1, 10, 100, 1000], 'gamma': [1,0.1,0.01,0.001,0.0001], 'kernel': ['rbf']} "
   ]
  },
  {
   "cell_type": "code",
   "execution_count": 47,
   "metadata": {},
   "outputs": [
    {
     "name": "stdout",
     "output_type": "stream",
     "text": [
      "Fitting 3 folds for each of 25 candidates, totalling 75 fits\n",
      "[CV] C=0.1, kernel=rbf, gamma=1 ......................................\n",
      "[CV]  C=0.1, kernel=rbf, gamma=1, score=0.7643097643097643, total=   0.0s\n",
      "[CV] C=0.1, kernel=rbf, gamma=1 ......................................\n",
      "[CV]  C=0.1, kernel=rbf, gamma=1, score=0.6902356902356902, total=   0.0s\n",
      "[CV] C=0.1, kernel=rbf, gamma=1 ......................................\n",
      "[CV]  C=0.1, kernel=rbf, gamma=1, score=0.6666666666666666, total=   0.0s\n",
      "[CV] C=0.1, kernel=rbf, gamma=0.1 ....................................\n",
      "[CV]  C=0.1, kernel=rbf, gamma=0.1, score=0.7609427609427609, total=   0.0s\n",
      "[CV] C=0.1, kernel=rbf, gamma=0.1 ....................................\n",
      "[CV]  C=0.1, kernel=rbf, gamma=0.1, score=0.8047138047138047, total=   0.0s\n",
      "[CV] C=0.1, kernel=rbf, gamma=0.1 ....................................\n",
      "[CV]  C=0.1, kernel=rbf, gamma=0.1, score=0.8047138047138047, total=   0.0s\n",
      "[CV] C=0.1, kernel=rbf, gamma=0.01 ...................................\n",
      "[CV]  C=0.1, kernel=rbf, gamma=0.01, score=0.6397306397306397, total=   0.0s\n",
      "[CV] C=0.1, kernel=rbf, gamma=0.01 ...................................\n",
      "[CV]  C=0.1, kernel=rbf, gamma=0.01, score=0.6262626262626263, total=   0.0s\n",
      "[CV] C=0.1, kernel=rbf, gamma=0.01 ...................................\n",
      "[CV]  C=0.1, kernel=rbf, gamma=0.01, score=0.6161616161616161, total=   0.0s\n",
      "[CV] C=0.1, kernel=rbf, gamma=0.001 ..................................\n",
      "[CV]  C=0.1, kernel=rbf, gamma=0.001, score=0.6161616161616161, total=   0.0s\n",
      "[CV] C=0.1, kernel=rbf, gamma=0.001 ..................................\n",
      "[CV]  C=0.1, kernel=rbf, gamma=0.001, score=0.6161616161616161, total=   0.0s\n",
      "[CV] C=0.1, kernel=rbf, gamma=0.001 ..................................\n",
      "[CV]  C=0.1, kernel=rbf, gamma=0.001, score=0.6161616161616161, total=   0.0s\n",
      "[CV] C=0.1, kernel=rbf, gamma=0.0001 .................................\n"
     ]
    },
    {
     "name": "stderr",
     "output_type": "stream",
     "text": [
      "[Parallel(n_jobs=1)]: Done   1 out of   1 | elapsed:    0.0s remaining:    0.0s\n",
      "[Parallel(n_jobs=1)]: Done   2 out of   2 | elapsed:    0.0s remaining:    0.0s\n"
     ]
    },
    {
     "name": "stdout",
     "output_type": "stream",
     "text": [
      "[CV]  C=0.1, kernel=rbf, gamma=0.0001, score=0.6161616161616161, total=   0.0s\n",
      "[CV] C=0.1, kernel=rbf, gamma=0.0001 .................................\n",
      "[CV]  C=0.1, kernel=rbf, gamma=0.0001, score=0.6161616161616161, total=   0.0s\n",
      "[CV] C=0.1, kernel=rbf, gamma=0.0001 .................................\n",
      "[CV]  C=0.1, kernel=rbf, gamma=0.0001, score=0.6161616161616161, total=   0.0s\n",
      "[CV] C=1, kernel=rbf, gamma=1 ........................................\n",
      "[CV]  C=1, kernel=rbf, gamma=1, score=0.7845117845117845, total=   0.0s\n",
      "[CV] C=1, kernel=rbf, gamma=1 ........................................\n",
      "[CV]  C=1, kernel=rbf, gamma=1, score=0.8148148148148148, total=   0.0s\n",
      "[CV] C=1, kernel=rbf, gamma=1 ........................................\n",
      "[CV]  C=1, kernel=rbf, gamma=1, score=0.8013468013468014, total=   0.0s\n",
      "[CV] C=1, kernel=rbf, gamma=0.1 ......................................\n",
      "[CV]  C=1, kernel=rbf, gamma=0.1, score=0.8080808080808081, total=   0.0s\n",
      "[CV] C=1, kernel=rbf, gamma=0.1 ......................................\n",
      "[CV]  C=1, kernel=rbf, gamma=0.1, score=0.8282828282828283, total=   0.0s\n",
      "[CV] C=1, kernel=rbf, gamma=0.1 ......................................\n",
      "[CV]  C=1, kernel=rbf, gamma=0.1, score=0.8249158249158249, total=   0.0s\n",
      "[CV] C=1, kernel=rbf, gamma=0.01 .....................................\n",
      "[CV]  C=1, kernel=rbf, gamma=0.01, score=0.797979797979798, total=   0.0s\n",
      "[CV] C=1, kernel=rbf, gamma=0.01 .....................................\n",
      "[CV]  C=1, kernel=rbf, gamma=0.01, score=0.797979797979798, total=   0.0s\n",
      "[CV] C=1, kernel=rbf, gamma=0.01 .....................................\n",
      "[CV]  C=1, kernel=rbf, gamma=0.01, score=0.7878787878787878, total=   0.0s\n",
      "[CV] C=1, kernel=rbf, gamma=0.001 ....................................\n",
      "[CV]  C=1, kernel=rbf, gamma=0.001, score=0.6498316498316499, total=   0.0s\n",
      "[CV] C=1, kernel=rbf, gamma=0.001 ....................................\n",
      "[CV]  C=1, kernel=rbf, gamma=0.001, score=0.6094276094276094, total=   0.0s\n",
      "[CV] C=1, kernel=rbf, gamma=0.001 ....................................\n",
      "[CV]  C=1, kernel=rbf, gamma=0.001, score=0.622895622895623, total=   0.0s\n",
      "[CV] C=1, kernel=rbf, gamma=0.0001 ...................................\n",
      "[CV]  C=1, kernel=rbf, gamma=0.0001, score=0.6161616161616161, total=   0.0s\n",
      "[CV] C=1, kernel=rbf, gamma=0.0001 ...................................\n",
      "[CV]  C=1, kernel=rbf, gamma=0.0001, score=0.6161616161616161, total=   0.0s\n",
      "[CV] C=1, kernel=rbf, gamma=0.0001 ...................................\n",
      "[CV]  C=1, kernel=rbf, gamma=0.0001, score=0.6161616161616161, total=   0.0s\n",
      "[CV] C=10, kernel=rbf, gamma=1 .......................................\n",
      "[CV]  C=10, kernel=rbf, gamma=1, score=0.7575757575757576, total=   0.0s\n",
      "[CV] C=10, kernel=rbf, gamma=1 .......................................\n",
      "[CV]  C=10, kernel=rbf, gamma=1, score=0.797979797979798, total=   0.0s\n",
      "[CV] C=10, kernel=rbf, gamma=1 .......................................\n",
      "[CV]  C=10, kernel=rbf, gamma=1, score=0.797979797979798, total=   0.0s\n",
      "[CV] C=10, kernel=rbf, gamma=0.1 .....................................\n",
      "[CV]  C=10, kernel=rbf, gamma=0.1, score=0.7912457912457912, total=   0.0s\n",
      "[CV] C=10, kernel=rbf, gamma=0.1 .....................................\n",
      "[CV]  C=10, kernel=rbf, gamma=0.1, score=0.8249158249158249, total=   0.0s\n",
      "[CV] C=10, kernel=rbf, gamma=0.1 .....................................\n",
      "[CV]  C=10, kernel=rbf, gamma=0.1, score=0.8249158249158249, total=   0.0s\n",
      "[CV] C=10, kernel=rbf, gamma=0.01 ....................................\n",
      "[CV]  C=10, kernel=rbf, gamma=0.01, score=0.8047138047138047, total=   0.0s\n",
      "[CV] C=10, kernel=rbf, gamma=0.01 ....................................\n",
      "[CV]  C=10, kernel=rbf, gamma=0.01, score=0.8148148148148148, total=   0.0s\n",
      "[CV] C=10, kernel=rbf, gamma=0.01 ....................................\n",
      "[CV]  C=10, kernel=rbf, gamma=0.01, score=0.7946127946127947, total=   0.0s\n",
      "[CV] C=10, kernel=rbf, gamma=0.001 ...................................\n",
      "[CV]  C=10, kernel=rbf, gamma=0.001, score=0.7777777777777778, total=   0.0s\n",
      "[CV] C=10, kernel=rbf, gamma=0.001 ...................................\n",
      "[CV]  C=10, kernel=rbf, gamma=0.001, score=0.7946127946127947, total=   0.0s\n",
      "[CV] C=10, kernel=rbf, gamma=0.001 ...................................\n",
      "[CV]  C=10, kernel=rbf, gamma=0.001, score=0.7777777777777778, total=   0.0s\n",
      "[CV] C=10, kernel=rbf, gamma=0.0001 ..................................\n",
      "[CV]  C=10, kernel=rbf, gamma=0.0001, score=0.6498316498316499, total=   0.0s\n",
      "[CV] C=10, kernel=rbf, gamma=0.0001 ..................................\n",
      "[CV]  C=10, kernel=rbf, gamma=0.0001, score=0.6161616161616161, total=   0.0s\n",
      "[CV] C=10, kernel=rbf, gamma=0.0001 ..................................\n",
      "[CV]  C=10, kernel=rbf, gamma=0.0001, score=0.622895622895623, total=   0.0s\n",
      "[CV] C=100, kernel=rbf, gamma=1 ......................................\n",
      "[CV]  C=100, kernel=rbf, gamma=1, score=0.7407407407407407, total=   0.0s\n",
      "[CV] C=100, kernel=rbf, gamma=1 ......................................\n",
      "[CV]  C=100, kernel=rbf, gamma=1, score=0.7744107744107744, total=   0.0s\n",
      "[CV] C=100, kernel=rbf, gamma=1 ......................................\n",
      "[CV]  C=100, kernel=rbf, gamma=1, score=0.7575757575757576, total=   0.0s\n",
      "[CV] C=100, kernel=rbf, gamma=0.1 ....................................\n",
      "[CV]  C=100, kernel=rbf, gamma=0.1, score=0.7946127946127947, total=   0.0s\n",
      "[CV] C=100, kernel=rbf, gamma=0.1 ....................................\n",
      "[CV]  C=100, kernel=rbf, gamma=0.1, score=0.8316498316498316, total=   0.0s\n",
      "[CV] C=100, kernel=rbf, gamma=0.1 ....................................\n",
      "[CV]  C=100, kernel=rbf, gamma=0.1, score=0.7946127946127947, total=   0.0s\n",
      "[CV] C=100, kernel=rbf, gamma=0.01 ...................................\n",
      "[CV]  C=100, kernel=rbf, gamma=0.01, score=0.8181818181818182, total=   0.0s\n",
      "[CV] C=100, kernel=rbf, gamma=0.01 ...................................\n",
      "[CV]  C=100, kernel=rbf, gamma=0.01, score=0.835016835016835, total=   0.0s\n",
      "[CV] C=100, kernel=rbf, gamma=0.01 ...................................\n",
      "[CV]  C=100, kernel=rbf, gamma=0.01, score=0.8181818181818182, total=   0.0s\n",
      "[CV] C=100, kernel=rbf, gamma=0.001 ..................................\n",
      "[CV]  C=100, kernel=rbf, gamma=0.001, score=0.7912457912457912, total=   0.0s\n",
      "[CV] C=100, kernel=rbf, gamma=0.001 ..................................\n",
      "[CV]  C=100, kernel=rbf, gamma=0.001, score=0.8013468013468014, total=   0.0s\n",
      "[CV] C=100, kernel=rbf, gamma=0.001 ..................................\n",
      "[CV]  C=100, kernel=rbf, gamma=0.001, score=0.7777777777777778, total=   0.0s\n",
      "[CV] C=100, kernel=rbf, gamma=0.0001 .................................\n",
      "[CV]  C=100, kernel=rbf, gamma=0.0001, score=0.7845117845117845, total=   0.0s\n",
      "[CV] C=100, kernel=rbf, gamma=0.0001 .................................\n",
      "[CV]  C=100, kernel=rbf, gamma=0.0001, score=0.7912457912457912, total=   0.0s\n",
      "[CV] C=100, kernel=rbf, gamma=0.0001 .................................\n",
      "[CV]  C=100, kernel=rbf, gamma=0.0001, score=0.7777777777777778, total=   0.0s\n",
      "[CV] C=1000, kernel=rbf, gamma=1 .....................................\n",
      "[CV]  C=1000, kernel=rbf, gamma=1, score=0.696969696969697, total=   0.1s\n",
      "[CV] C=1000, kernel=rbf, gamma=1 .....................................\n",
      "[CV]  C=1000, kernel=rbf, gamma=1, score=0.7744107744107744, total=   0.0s\n",
      "[CV] C=1000, kernel=rbf, gamma=1 .....................................\n",
      "[CV]  C=1000, kernel=rbf, gamma=1, score=0.7407407407407407, total=   0.0s\n",
      "[CV] C=1000, kernel=rbf, gamma=0.1 ...................................\n",
      "[CV]  C=1000, kernel=rbf, gamma=0.1, score=0.7575757575757576, total=   0.0s\n",
      "[CV] C=1000, kernel=rbf, gamma=0.1 ...................................\n",
      "[CV]  C=1000, kernel=rbf, gamma=0.1, score=0.8114478114478114, total=   0.0s\n",
      "[CV] C=1000, kernel=rbf, gamma=0.1 ...................................\n",
      "[CV]  C=1000, kernel=rbf, gamma=0.1, score=0.8013468013468014, total=   0.0s\n",
      "[CV] C=1000, kernel=rbf, gamma=0.01 ..................................\n",
      "[CV]  C=1000, kernel=rbf, gamma=0.01, score=0.8181818181818182, total=   0.0s\n",
      "[CV] C=1000, kernel=rbf, gamma=0.01 ..................................\n",
      "[CV]  C=1000, kernel=rbf, gamma=0.01, score=0.8282828282828283, total=   0.0s\n",
      "[CV] C=1000, kernel=rbf, gamma=0.01 ..................................\n",
      "[CV]  C=1000, kernel=rbf, gamma=0.01, score=0.8215488215488216, total=   0.0s\n",
      "[CV] C=1000, kernel=rbf, gamma=0.001 .................................\n",
      "[CV]  C=1000, kernel=rbf, gamma=0.001, score=0.8013468013468014, total=   0.0s\n",
      "[CV] C=1000, kernel=rbf, gamma=0.001 .................................\n",
      "[CV]  C=1000, kernel=rbf, gamma=0.001, score=0.8114478114478114, total=   0.0s\n",
      "[CV] C=1000, kernel=rbf, gamma=0.001 .................................\n",
      "[CV]  C=1000, kernel=rbf, gamma=0.001, score=0.7878787878787878, total=   0.0s\n",
      "[CV] C=1000, kernel=rbf, gamma=0.0001 ................................\n",
      "[CV]  C=1000, kernel=rbf, gamma=0.0001, score=0.7878787878787878, total=   0.0s\n",
      "[CV] C=1000, kernel=rbf, gamma=0.0001 ................................\n",
      "[CV]  C=1000, kernel=rbf, gamma=0.0001, score=0.8013468013468014, total=   0.0s\n",
      "[CV] C=1000, kernel=rbf, gamma=0.0001 ................................\n"
     ]
    },
    {
     "name": "stdout",
     "output_type": "stream",
     "text": [
      "[CV]  C=1000, kernel=rbf, gamma=0.0001, score=0.7710437710437711, total=   0.0s\n"
     ]
    },
    {
     "name": "stderr",
     "output_type": "stream",
     "text": [
      "[Parallel(n_jobs=1)]: Done  75 out of  75 | elapsed:    1.8s finished\n"
     ]
    },
    {
     "data": {
      "text/plain": [
       "GridSearchCV(cv=None, error_score='raise',\n",
       "       estimator=SVC(C=1.0, cache_size=200, class_weight=None, coef0=0.0,\n",
       "  decision_function_shape='ovr', degree=3, gamma='auto', kernel='rbf',\n",
       "  max_iter=-1, probability=False, random_state=None, shrinking=True,\n",
       "  tol=0.001, verbose=False),\n",
       "       fit_params=None, iid=True, n_jobs=1,\n",
       "       param_grid={'C': [0.1, 1, 10, 100, 1000], 'kernel': ['rbf'], 'gamma': [1, 0.1, 0.01, 0.001, 0.0001]},\n",
       "       pre_dispatch='2*n_jobs', refit=True, return_train_score='warn',\n",
       "       scoring=None, verbose=3)"
      ]
     },
     "execution_count": 47,
     "metadata": {},
     "output_type": "execute_result"
    }
   ],
   "source": [
    "from sklearn.model_selection import GridSearchCV\n",
    "grid = GridSearchCV(SVC(),param_grid,refit=True,verbose=3)\n",
    "grid.fit(X_train,y_train)"
   ]
  },
  {
   "cell_type": "code",
   "execution_count": 48,
   "metadata": {},
   "outputs": [
    {
     "data": {
      "text/plain": [
       "{'C': 100, 'gamma': 0.01, 'kernel': 'rbf'}"
      ]
     },
     "execution_count": 48,
     "metadata": {},
     "output_type": "execute_result"
    }
   ],
   "source": [
    "grid.best_params_"
   ]
  },
  {
   "cell_type": "code",
   "execution_count": 49,
   "metadata": {},
   "outputs": [
    {
     "data": {
      "text/plain": [
       "SVC(C=100, cache_size=200, class_weight=None, coef0=0.0,\n",
       "  decision_function_shape='ovr', degree=3, gamma=0.01, kernel='rbf',\n",
       "  max_iter=-1, probability=False, random_state=None, shrinking=True,\n",
       "  tol=0.001, verbose=False)"
      ]
     },
     "execution_count": 49,
     "metadata": {},
     "output_type": "execute_result"
    }
   ],
   "source": [
    "model = SVC(C=100, kernel='rbf', gamma=0.01)\n",
    "model.fit(X_train,y_train)"
   ]
  },
  {
   "cell_type": "code",
   "execution_count": 50,
   "metadata": {},
   "outputs": [],
   "source": [
    "grid_predictions = grid.predict(X_test)"
   ]
  },
  {
   "cell_type": "code",
   "execution_count": 51,
   "metadata": {},
   "outputs": [
    {
     "name": "stdout",
     "output_type": "stream",
     "text": [
      "[[260   6]\n",
      " [  7 145]]\n"
     ]
    }
   ],
   "source": [
    "print(confusion_matrix(y_test,grid_predictions))"
   ]
  },
  {
   "cell_type": "code",
   "execution_count": 52,
   "metadata": {},
   "outputs": [
    {
     "name": "stdout",
     "output_type": "stream",
     "text": [
      "             precision    recall  f1-score   support\n",
      "\n",
      "          0       0.97      0.98      0.98       266\n",
      "          1       0.96      0.95      0.96       152\n",
      "\n",
      "avg / total       0.97      0.97      0.97       418\n",
      "\n"
     ]
    }
   ],
   "source": [
    "print(classification_report(y_test,grid_predictions))"
   ]
  },
  {
   "cell_type": "code",
   "execution_count": null,
   "metadata": {},
   "outputs": [],
   "source": []
  }
 ],
 "metadata": {
  "kernelspec": {
   "display_name": "Python 3",
   "language": "python",
   "name": "python3"
  },
  "language_info": {
   "codemirror_mode": {
    "name": "ipython",
    "version": 3
   },
   "file_extension": ".py",
   "mimetype": "text/x-python",
   "name": "python",
   "nbconvert_exporter": "python",
   "pygments_lexer": "ipython3",
   "version": "3.5.6"
  }
 },
 "nbformat": 4,
 "nbformat_minor": 2
}
